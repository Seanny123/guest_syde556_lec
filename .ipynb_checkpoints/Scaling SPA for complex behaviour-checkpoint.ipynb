{
 "cells": [
  {
   "cell_type": "markdown",
   "metadata": {},
   "source": [
    "# Up and Down the Ladder of Abstraction"
   ]
  },
  {
   "cell_type": "markdown",
   "metadata": {},
   "source": [
    "<img src=\"cog_ladder.svg\" height=\"500\" width=\"500\">\n",
    "\n",
    "Last week you saw Ivana talk about language processing. Most of her work focuses on the high level.\n",
    "\n",
    "Next week Peter will talk to you about complex neuron models.\n",
    "\n",
    "Today, I'm going to talk about my work at the top."
   ]
  },
  {
   "cell_type": "markdown",
   "metadata": {},
   "source": [
    "# Fun at the top of the ladder\n",
    "## Scaling up"
   ]
  },
  {
   "cell_type": "markdown",
   "metadata": {},
   "source": [
    "We know how to:\n",
    "\n",
    "- Represesent symbols\n",
    "- Select actions using the Basal Ganglia and Thalamus\n",
    "- Save\n",
    "\n",
    "We used these components to:\n",
    "\n",
    "- Answer basic questions\n",
    "- Follow a sequence of rules\n",
    "\n",
    "Now, let's try:\n",
    "\n",
    "- Making decisions based on what's in memory"
   ]
  },
  {
   "cell_type": "code",
   "execution_count": 4,
   "metadata": {
    "collapsed": true
   },
   "outputs": [],
   "source": [
    "# TODO: INSERT CODE FROM PAPER WITH SUE\n",
    "# Talk about the basic building blocks of memories, associative memories, cleanups, states and routing."
   ]
  },
  {
   "cell_type": "markdown",
   "metadata": {},
   "source": [
    "It gets more complicated with increasingly complicated behaviour. For example, the task of counting that Spaun does requires a LOT of lines of code."
   ]
  },
  {
   "cell_type": "code",
   "execution_count": 2,
   "metadata": {
    "collapsed": true
   },
   "outputs": [],
   "source": [
    "# Switch to powerpoint animation, but remind everyone it's still just the basic components you talked about"
   ]
  },
  {
   "cell_type": "markdown",
   "metadata": {},
   "source": [
    "This also covers other models like:\n",
    "- N-back memory task [INSERT CITATION]\n",
    "- Stack-like procedure memory [INSERT CITATION]\n",
    "- Language search model from last week [INSERT CITATION]"
   ]
  },
  {
   "cell_type": "markdown",
   "metadata": {},
   "source": [
    "If you want to integrate multiple complex behaviours, which Spaun actually does, you get an unmanageable amounts of code.\n",
    "\n",
    "> \"If someone wants to implement a new task into Spaun requiring a new module, they're better off reimplementing Spaun entirely than trying to edit the code.\" - Xuan Choo, creator of Spaun\n",
    "\n",
    "That seems bad. How can fix this?\n",
    "\n",
    "- Make the SPA action syntax better. See https://github.com/nengo/nengo_spa.\n",
    "- Make the design and simulate loop faster with neuromorphic hardware.\n",
    "- Make SPA actions require less fine-tuning. Sverrir is working on this!\n",
    "- Make a design language that compiles to SPA. But we don't know how to efficiently describe systems of this scale yet, because so few have been created!"
   ]
  },
  {
   "cell_type": "markdown",
   "metadata": {},
   "source": [
    "## Getting better with practice"
   ]
  },
  {
   "cell_type": "markdown",
   "metadata": {},
   "source": [
    "Memory is a thing. But how is it used as a thing? Well, sometimes it can be really simple."
   ]
  },
  {
   "cell_type": "code",
   "execution_count": 5,
   "metadata": {
    "collapsed": true
   },
   "outputs": [],
   "source": [
    "# TODO: show diagram of associative memory"
   ]
  },
  {
   "cell_type": "markdown",
   "metadata": {},
   "source": [
    "# Going back down the ladder\n",
    "## Matching neurological data"
   ]
  },
  {
   "cell_type": "markdown",
   "metadata": {},
   "source": [
    "You have to use approximations:\n",
    "- MEG is basically spikes\n",
    "- fMRI is basically neurotransmitter use"
   ]
  },
  {
   "cell_type": "code",
   "execution_count": null,
   "metadata": {
    "collapsed": true
   },
   "outputs": [],
   "source": [
    "# TODO: show basics of project"
   ]
  }
 ],
 "metadata": {
  "kernelspec": {
   "display_name": "Python 3",
   "language": "python",
   "name": "python3"
  },
  "language_info": {
   "codemirror_mode": {
    "name": "ipython",
    "version": 3
   },
   "file_extension": ".py",
   "mimetype": "text/x-python",
   "name": "python",
   "nbconvert_exporter": "python",
   "pygments_lexer": "ipython3",
   "version": "3.6.3"
  }
 },
 "nbformat": 4,
 "nbformat_minor": 2
}
